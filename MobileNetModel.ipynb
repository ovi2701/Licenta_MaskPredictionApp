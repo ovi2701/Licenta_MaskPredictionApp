{
 "cells": [
  {
   "cell_type": "code",
   "execution_count": 3,
   "id": "a84d7d6c",
   "metadata": {},
   "outputs": [
    {
     "name": "stdout",
     "output_type": "stream",
     "text": [
      "Load data...\n"
     ]
    },
    {
     "name": "stderr",
     "output_type": "stream",
     "text": [
      "C:\\ProgramData\\Anaconda3\\lib\\site-packages\\PIL\\Image.py:946: UserWarning: Palette images with Transparency expressed in bytes should be converted to RGBA images\n",
      "  \"Palette images with Transparency expressed in bytes should be \"\n"
     ]
    },
    {
     "name": "stdout",
     "output_type": "stream",
     "text": [
      "WARNING:tensorflow:`input_shape` is undefined or non-square, or `rows` is not in [96, 128, 160, 192, 224]. Weights for input shape (224, 224) will be loaded as the default.\n",
      "[INFO] compiling model...\n",
      "[INFO] training head...\n"
     ]
    },
    {
     "name": "stderr",
     "output_type": "stream",
     "text": [
      "C:\\ProgramData\\Anaconda3\\lib\\site-packages\\keras\\optimizer_v2\\adam.py:105: UserWarning: The `lr` argument is deprecated, use `learning_rate` instead.\n",
      "  super(Adam, self).__init__(name, **kwargs)\n",
      "C:\\ProgramData\\Anaconda3\\lib\\site-packages\\ipykernel_launcher.py:135: UserWarning: `Model.fit_generator` is deprecated and will be removed in a future version. Please use `Model.fit`, which supports generators.\n"
     ]
    },
    {
     "name": "stdout",
     "output_type": "stream",
     "text": [
      "Epoch 1/20\n",
      "188/188 [==============================] - 228s 1s/step - loss: 0.2973 - accuracy: 0.8965 - val_loss: 0.0867 - val_accuracy: 0.9729\n",
      "Epoch 2/20\n",
      "188/188 [==============================] - 218s 1s/step - loss: 0.1098 - accuracy: 0.9661 - val_loss: 0.0584 - val_accuracy: 0.9762\n",
      "Epoch 3/20\n",
      "188/188 [==============================] - 213s 1s/step - loss: 0.0857 - accuracy: 0.9739 - val_loss: 0.0511 - val_accuracy: 0.9768\n",
      "Epoch 4/20\n",
      "188/188 [==============================] - 201s 1s/step - loss: 0.0677 - accuracy: 0.9775 - val_loss: 0.0449 - val_accuracy: 0.9782\n",
      "Epoch 5/20\n",
      "188/188 [==============================] - 203s 1s/step - loss: 0.0669 - accuracy: 0.9790 - val_loss: 0.0400 - val_accuracy: 0.9821\n",
      "Epoch 6/20\n",
      "188/188 [==============================] - 198s 1s/step - loss: 0.0575 - accuracy: 0.9837 - val_loss: 0.0375 - val_accuracy: 0.9828\n",
      "Epoch 7/20\n",
      "188/188 [==============================] - 191s 1s/step - loss: 0.0590 - accuracy: 0.9830 - val_loss: 0.0356 - val_accuracy: 0.9848\n",
      "Epoch 8/20\n",
      "188/188 [==============================] - 202s 1s/step - loss: 0.0541 - accuracy: 0.9829 - val_loss: 0.0344 - val_accuracy: 0.9854\n",
      "Epoch 9/20\n",
      "188/188 [==============================] - 195s 1s/step - loss: 0.0471 - accuracy: 0.9845 - val_loss: 0.0345 - val_accuracy: 0.9881\n",
      "Epoch 10/20\n",
      "188/188 [==============================] - 199s 1s/step - loss: 0.0465 - accuracy: 0.9867 - val_loss: 0.0329 - val_accuracy: 0.9848\n",
      "Epoch 11/20\n",
      "188/188 [==============================] - 200s 1s/step - loss: 0.0480 - accuracy: 0.9839 - val_loss: 0.0336 - val_accuracy: 0.9861\n",
      "Epoch 12/20\n",
      "188/188 [==============================] - 199s 1s/step - loss: 0.0448 - accuracy: 0.9859 - val_loss: 0.0306 - val_accuracy: 0.9868\n",
      "Epoch 13/20\n",
      "188/188 [==============================] - 206s 1s/step - loss: 0.0451 - accuracy: 0.9852 - val_loss: 0.0311 - val_accuracy: 0.9881\n",
      "Epoch 14/20\n",
      "188/188 [==============================] - 205s 1s/step - loss: 0.0404 - accuracy: 0.9869 - val_loss: 0.0300 - val_accuracy: 0.9881\n",
      "Epoch 15/20\n",
      "188/188 [==============================] - 217s 1s/step - loss: 0.0359 - accuracy: 0.9874 - val_loss: 0.0312 - val_accuracy: 0.9887\n",
      "Epoch 16/20\n",
      "188/188 [==============================] - 215s 1s/step - loss: 0.0408 - accuracy: 0.9854 - val_loss: 0.0315 - val_accuracy: 0.9881\n",
      "Epoch 17/20\n",
      "188/188 [==============================] - 204s 1s/step - loss: 0.0305 - accuracy: 0.9894 - val_loss: 0.0286 - val_accuracy: 0.9887\n",
      "Epoch 18/20\n",
      "188/188 [==============================] - 197s 1s/step - loss: 0.0389 - accuracy: 0.9855 - val_loss: 0.0280 - val_accuracy: 0.9907\n",
      "Epoch 19/20\n",
      "188/188 [==============================] - 209s 1s/step - loss: 0.0387 - accuracy: 0.9875 - val_loss: 0.0268 - val_accuracy: 0.9907\n",
      "Epoch 20/20\n",
      "188/188 [==============================] - 210s 1s/step - loss: 0.0327 - accuracy: 0.9899 - val_loss: 0.0269 - val_accuracy: 0.9907\n",
      "[INFO] saving mask detector model...\n"
     ]
    }
   ],
   "source": [
    "from tensorflow.keras.preprocessing.image import ImageDataGenerator\n",
    "from tensorflow.keras.applications import MobileNetV2\n",
    "from tensorflow.keras.layers import AveragePooling2D\n",
    "from tensorflow.keras.layers import Dropout\n",
    "from tensorflow.keras.layers import Flatten\n",
    "from tensorflow.keras.layers import Dense\n",
    "from tensorflow.keras.layers import Input\n",
    "from tensorflow.keras.models import Model\n",
    "from tensorflow.keras.optimizers import Adam\n",
    "from tensorflow.keras.applications.mobilenet_v2 import preprocess_input\n",
    "from tensorflow.keras.preprocessing.image import img_to_array\n",
    "from tensorflow.keras.preprocessing.image import load_img\n",
    "from tensorflow.keras.utils import to_categorical\n",
    "from sklearn.preprocessing import LabelBinarizer\n",
    "from sklearn.model_selection import train_test_split\n",
    "from sklearn.metrics import classification_report\n",
    "from imutils import paths\n",
    "import numpy as np\n",
    "import matplotlib.pyplot as plt\n",
    "from pathlib import Path\n",
    "from keras.preprocessing import image\n",
    "\n",
    "# initialize the initial learning rate, number of epochs to train for,\n",
    "# and batch size\n",
    "INIT_LR = 1e-4\n",
    "EPOCHS = 20\n",
    "BS = 32\n",
    "\n",
    "#path to folders for training data\n",
    "mask_path = Path(\"dataset\") / \"with_mask\"\n",
    "no_mask_path = Path(\"dataset\") / \"without_mask\"\n",
    "\n",
    "images = []\n",
    "labels = []\n",
    "\n",
    "print(\"Load data...\")\n",
    "\n",
    "for img in mask_path.glob(\"*.jpg\"):\n",
    "    #Load the image from disk\n",
    "    img = image.load_img(img)\n",
    "    \n",
    "    img = img.resize([224,224])\n",
    "    \n",
    "    #Convert the image to an array\n",
    "    image_array = image.img_to_array(img)\n",
    "    \n",
    "    #Add the image to the list of images\n",
    "    images.append(image_array)\n",
    "    \n",
    "    #For each \"mask image\", the expected value should be 1\n",
    "    labels.append(1)\n",
    "\n",
    "for img in no_mask_path.glob(\"*.jpg\"):\n",
    "    #Load the image from disk\n",
    "    img = image.load_img(img)\n",
    "    \n",
    "    img = img.resize([224,224])\n",
    "    \n",
    "    #Convert the image to an array\n",
    "    image_array = image.img_to_array(img)\n",
    "    \n",
    "    #Add the image to the list of images\n",
    "    images.append(image_array)\n",
    "    \n",
    "    #For each \"not mask image\", the expected value should be 0\n",
    "    labels.append(0)\n",
    " \n",
    "\n",
    "    # Convert the array with train images we loaded into a numpy array\n",
    "X_train = np.array(images)\n",
    "\n",
    "# Convert the train lables array into a numpy array\n",
    "Y_train = np.array(labels)\n",
    "\n",
    "# transform labels into arrays with two elements\n",
    "Y_train = to_categorical(Y_train)\n",
    "\n",
    "# Convert data from integer to floating point\n",
    "X_train = X_train.astype(\"float32\")\n",
    "\n",
    "# Normalizing data between 0 and 1\n",
    "X_train = X_train/255\n",
    "\n",
    "# partition the data into training and testing splits using 75% of\n",
    "# the data for training and the remaining 25% for testing\n",
    "(trainX, testX, trainY, testY) = train_test_split(X_train, Y_train,\n",
    "\ttest_size=0.20, stratify=labels, random_state=42)\n",
    "\n",
    "\n",
    "# construct the training image generator for data augmentation\n",
    "aug = ImageDataGenerator(\n",
    "\trotation_range=20,\n",
    "\tzoom_range=0.15,\n",
    "\twidth_shift_range=0.2,\n",
    "\theight_shift_range=0.2,\n",
    "\tshear_range=0.15,\n",
    "\thorizontal_flip=True,\n",
    "\tfill_mode=\"nearest\")\n",
    "\n",
    "# load the MobileNetV2 network, ensuring the head FC layer sets are\n",
    "# left off\n",
    "baseModel = MobileNetV2(weights=\"imagenet\", include_top=False,\n",
    "\tinput_tensor=Input(shape=(224, 224, 3)))\n",
    "\n",
    "# construct the head of the model that will be placed on top of the\n",
    "# the base model\n",
    "headModel = baseModel.output\n",
    "headModel = AveragePooling2D(pool_size=(7, 7))(headModel)\n",
    "headModel = Flatten(name=\"flatten\")(headModel)\n",
    "headModel = Dense(128, activation=\"relu\")(headModel)\n",
    "headModel = Dropout(0.5)(headModel)\n",
    "headModel = Dense(2, activation=\"softmax\")(headModel)\n",
    "\n",
    "# place the head FC model on top of the base model (this will become\n",
    "# the actual model we will train)\n",
    "model = Model(inputs=baseModel.input, outputs=headModel)\n",
    "\n",
    "# loop over all layers in the base model and freeze them so they will\n",
    "# *not* be updated during the first training process\n",
    "for layer in baseModel.layers:\n",
    "\tlayer.trainable = False\n",
    "\n",
    "# compile our model\n",
    "print(\"[INFO] compiling model...\")\n",
    "opt = Adam(lr=INIT_LR, decay=INIT_LR / EPOCHS)\n",
    "model.compile(loss=\"binary_crossentropy\", optimizer=opt,\n",
    "\tmetrics=[\"accuracy\"])\n",
    "\n",
    "# train the head of the network\n",
    "print(\"[INFO] training head...\")\n",
    "history = model.fit_generator(\n",
    "\taug.flow(trainX, trainY, batch_size=BS),\n",
    "\tsteps_per_epoch=len(trainX) // BS,\n",
    "\tvalidation_data=(testX, testY),\n",
    "\tepochs=EPOCHS)\n",
    "    \n",
    "\n",
    "# serialize the model to disk\n",
    "print(\"[INFO] saving mask detector model...\")\n",
    "model.save(\"MobileNetMaskDetector.h5\")\n"
   ]
  },
  {
   "cell_type": "code",
   "execution_count": 4,
   "id": "451ea41c",
   "metadata": {},
   "outputs": [
    {
     "name": "stdout",
     "output_type": "stream",
     "text": [
      "dict_keys(['loss', 'accuracy', 'val_loss', 'val_accuracy'])\n"
     ]
    },
    {
     "data": {
      "image/png": "[encoded data removed]",
      "text/plain": [
       "<Figure size 432x288 with 1 Axes>"
      ]
     },
     "metadata": {
      "needs_background": "light"
     },
     "output_type": "display_data"
    },
    {
     "data": {
      "image/png": "[encoded data removed]",
      "text/plain": [
       "<Figure size 432x288 with 1 Axes>"
      ]
     },
     "metadata": {
      "needs_background": "light"
     },
     "output_type": "display_data"
    }
   ],
   "source": [
    "# list all data in history\n",
    "print(history.history.keys())\n",
    "# summarize history for accuracy\n",
    "plt.plot(history.history['accuracy'])\n",
    "plt.plot(history.history['val_accuracy'])\n",
    "plt.title('model accuracy')\n",
    "plt.ylabel('accuracy')\n",
    "plt.xlabel('epoch')\n",
    "plt.legend(['train', 'test'], loc='upper left')\n",
    "plt.show()\n",
    "\n",
    "# summarize history for loss\n",
    "plt.plot(history.history['loss'])\n",
    "plt.plot(history.history['val_loss'])\n",
    "plt.title('model loss')\n",
    "plt.ylabel('loss')\n",
    "plt.xlabel('epoch')\n",
    "plt.legend(['train', 'test'], loc='upper left')\n",
    "plt.show()"
   ]
  },
  {
   "cell_type": "code",
   "execution_count": null,
   "id": "1e3dbb51",
   "metadata": {},
   "outputs": [],
   "source": []
  }
 ],
 "metadata": {
  "kernelspec": {
   "display_name": "Python 3 (ipykernel)",
   "language": "python",
   "name": "python3"
  },
  "language_info": {
   "codemirror_mode": {
    "name": "ipython",
    "version": 3
   },
   "file_extension": ".py",
   "mimetype": "text/x-python",
   "name": "python",
   "nbconvert_exporter": "python",
   "pygments_lexer": "ipython3",
   "version": "3.7.11"
  }
 },
 "nbformat": 4,
 "nbformat_minor": 5
}
